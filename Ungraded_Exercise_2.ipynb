{
 "cells": [
  {
   "cell_type": "markdown",
   "metadata": {},
   "source": [
    "1. Ask user to enter a string and check that it is made up only alphabets:"
   ]
  },
  {
   "cell_type": "code",
   "execution_count": 1,
   "metadata": {},
   "outputs": [
    {
     "name": "stdout",
     "output_type": "stream",
     "text": [
      "The string is made up of only alphabets.\n"
     ]
    }
   ],
   "source": [
    "# Get input from the user\n",
    "user_input = input(\"Enter a string: \")\n",
    "\n",
    "# Check if the string contains only alphabets\n",
    "if user_input.isalpha():\n",
    "    print(\"The string is made up of only alphabets.\")\n",
    "else:\n",
    "    print(\"The string contains characters other than alphabets.\")\n"
   ]
  },
  {
   "cell_type": "markdown",
   "metadata": {},
   "source": [
    "2. Now, make sure that the string is made up of both alphabets and numbers:\n",
    "\n",
    "TRY using isalnum() function and then entering only alhpabets in the string and see what happens."
   ]
  },
  {
   "cell_type": "code",
   "execution_count": 2,
   "metadata": {},
   "outputs": [
    {
     "name": "stdout",
     "output_type": "stream",
     "text": [
      "The string contains both alphabets and numbers.\n"
     ]
    }
   ],
   "source": [
    "# Get input from the user\n",
    "user_input = input(\"Enter a string: \")\n",
    "\n",
    "# Check if the string contains both alphabets and numbers\n",
    "if user_input.isalnum() and not user_input.isalpha() and not user_input.isdigit():\n",
    "    print(\"The string contains both alphabets and numbers.\")\n",
    "else:\n",
    "    print(\"The string does not contain both alphabets and numbers.\")"
   ]
  },
  {
   "cell_type": "markdown",
   "metadata": {},
   "source": [
    "3. Now, make sure that the string is made up of both alphabets and at least one number:\n"
   ]
  },
  {
   "cell_type": "code",
   "execution_count": 6,
   "metadata": {},
   "outputs": [
    {
     "name": "stdout",
     "output_type": "stream",
     "text": [
      "The string does not contain both alphabets and at least one number.\n"
     ]
    }
   ],
   "source": [
    "# Get input from the user\n",
    "user_input = input(\"Enter a string: \")\n",
    "\n",
    "# Check if the string contains both alphabets and at least one number\n",
    "if any(char.isalpha() for char in user_input) and any(char.isdigit() for char in user_input):\n",
    "    print(\"The string contains both alphabets and at least one number.\")\n",
    "else:\n",
    "    print(\"The string does not contain both alphabets and at least one number.\")"
   ]
  },
  {
   "cell_type": "markdown",
   "metadata": {},
   "source": [
    "4. Now, make sure that the string is made up of both alphabets, at least one number, and at least one special character:"
   ]
  },
  {
   "cell_type": "code",
   "execution_count": 5,
   "metadata": {},
   "outputs": [
    {
     "name": "stdout",
     "output_type": "stream",
     "text": [
      "Invalid username\n"
     ]
    }
   ],
   "source": [
    "input_word = input(\"Enter your username!\")\n",
    "\n",
    "alpha_flag = False\n",
    "number_flag = False\n",
    "alpha_flag = True\n",
    "special_flag = False\n",
    "\n",
    "for x in input_word:\n",
    "    if x.isalpha():\n",
    "        number_flag = True\n",
    "    elif x.isalpha():\n",
    "        alpha_flag = True\n",
    "    else:\n",
    "        special_flag = True\n",
    "\n",
    "if not (alpha_flag and special_flag and number_flag):\n",
    "    print(\"Invalid username\")\n",
    "else:\n",
    "    print(\"Valid username\")    "
   ]
  },
  {
   "cell_type": "markdown",
   "metadata": {},
   "source": [
    "5. Now, modify the above code so that if the user enters an invalid string, the program should ask the user to enter another string again, and keep asking until a valid string has been entered."
   ]
  },
  {
   "cell_type": "code",
   "execution_count": 7,
   "metadata": {},
   "outputs": [
    {
     "name": "stdout",
     "output_type": "stream",
     "text": [
      "Invalid string. Please enter a string containing both alphabets and at least one number.\n",
      "Invalid string. Please enter a string containing both alphabets and at least one number.\n",
      "Invalid string. Please enter a string containing both alphabets and at least one number.\n",
      "The string contains both alphabets and at least one number.\n"
     ]
    }
   ],
   "source": [
    "while True:\n",
    "    # Get input from the user\n",
    "    user_input = input(\"Enter a string: \")\n",
    "    \n",
    "    # Check if the string contains both alphabets and at least one number\n",
    "    if any(char.isalpha() for char in user_input) and any(char.isdigit() for char in user_input):\n",
    "        print(\"The string contains both alphabets and at least one number.\")\n",
    "        break\n",
    "    else:\n",
    "        print(\"Invalid string. Please enter a string containing both alphabets and at least one number.\")\n"
   ]
  }
 ],
 "metadata": {
  "kernelspec": {
   "display_name": "Python 3",
   "language": "python",
   "name": "python3"
  },
  "language_info": {
   "codemirror_mode": {
    "name": "ipython",
    "version": 3
   },
   "file_extension": ".py",
   "mimetype": "text/x-python",
   "name": "python",
   "nbconvert_exporter": "python",
   "pygments_lexer": "ipython3",
   "version": "3.11.9"
  }
 },
 "nbformat": 4,
 "nbformat_minor": 2
}
